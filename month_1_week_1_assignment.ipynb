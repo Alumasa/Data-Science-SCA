{
 "cells": [
  {
   "cell_type": "markdown",
   "metadata": {},
   "source": [
    "## 1. Guess the Number\n",
    "\n",
    "- this program randomly generates a number between 0 and 20.\n",
    "- the user has to povide a guess\n",
    "- if she guesses a number less than 0 or greater than 20, it asks her to guess again.\n",
    "- if she guesses wrong, it tells her that the guess is either too high or too low.\n",
    "- if she guesses right, her guess is correct."
   ]
  },
  {
   "cell_type": "code",
   "execution_count": 1,
   "metadata": {},
   "outputs": [],
   "source": [
    "# import the random library to select numbers randomly\n",
    "import random"
   ]
  },
  {
   "cell_type": "code",
   "execution_count": 2,
   "metadata": {},
   "outputs": [],
   "source": [
    "def guess_checker():\n",
    "    answer = random.randint(0, 20)\n",
    "    #uncomment the following print statement to see the answer before you guess\n",
    "    #print(answer)\n",
    "    guess = int(input('What is your guess?:'))\n",
    "    \n",
    "    while guess < 0 or guess > 20:\n",
    "        print('Please guess again between 0 and 20.')\n",
    "        guess = int(input('What is your guess, again?:'))\n",
    "        \n",
    "    if guess < answer:\n",
    "        print(\"Oops! Your guess was too low.\")\n",
    "        print('The answer is {}.'.format(answer))\n",
    "    elif guess > answer:\n",
    "        print(\"Oops! Your guess was too high.\")\n",
    "        print('The answer is {}.'.format(answer))\n",
    "    elif guess == answer:\n",
    "        print(\"Nice! Your guess matched the answer!\")   "
   ]
  },
  {
   "cell_type": "code",
   "execution_count": 30,
   "metadata": {
    "scrolled": false
   },
   "outputs": [
    {
     "name": "stdout",
     "output_type": "stream",
     "text": [
      "What is your guess?:12\n",
      "Nice! Your guess matched the answer!\n"
     ]
    }
   ],
   "source": [
    "guess_checker()"
   ]
  },
  {
   "cell_type": "code",
   "execution_count": null,
   "metadata": {},
   "outputs": [],
   "source": []
  },
  {
   "cell_type": "markdown",
   "metadata": {},
   "source": [
    "## 2. Password Generator\n",
    "\n",
    "- this program generates a random password for the user\n",
    "- the password should be a minimum of 6 characters.\n",
    "- it asks the user how long their password should be\n",
    "    - how many letters and numbers it should have\n",
    "- it then mixes  upper and lower case characters as well as numbers and symbols of the length requested by the user."
   ]
  },
  {
   "cell_type": "markdown",
   "metadata": {},
   "source": [
    "*I will import the string library to provide characters, numbers and symbols.*\n",
    "\n",
    "*The random library imported in qn1. will still be used here.*"
   ]
  },
  {
   "cell_type": "code",
   "execution_count": 7,
   "metadata": {},
   "outputs": [],
   "source": [
    "import string"
   ]
  },
  {
   "cell_type": "markdown",
   "metadata": {},
   "source": [
    "*I will create a helper function to input the password requirements and check if they meet the conditions stipulated.*"
   ]
  },
  {
   "cell_type": "code",
   "execution_count": 5,
   "metadata": {},
   "outputs": [],
   "source": [
    "def password_req():\n",
    "    length = int(input('How long do you want your password to be?:'))\n",
    "    \n",
    "    while length < 6:\n",
    "        print('Your password should be a minimum of 6 characters long.')\n",
    "        length = int(input('Please input password length again.:'))\n",
    "                     \n",
    "    letters = int(input('How many letters should your password have?:'))\n",
    "    numbers = int(input('How many numbers and symbols should your password have?:'))\n",
    "    \n",
    "    while letters + numbers != length:\n",
    "        print('Your letters and numbers do not add up to the password length.')\n",
    "        letters = int(input('Please input number of letters again.:'))\n",
    "        numbers = int(input('Please input number of numbers and symbols again.:'))\n",
    "        \n",
    "    if letters + numbers == length:\n",
    "        return length, numbers, letters"
   ]
  },
  {
   "cell_type": "markdown",
   "metadata": {},
   "source": [
    "*I will create variables of sequences with letters, and a combination of numbers and symbols.*"
   ]
  },
  {
   "cell_type": "code",
   "execution_count": 8,
   "metadata": {},
   "outputs": [],
   "source": [
    "num_seq = string.digits + string.punctuation\n",
    "letter_seq = string.ascii_letters"
   ]
  },
  {
   "cell_type": "markdown",
   "metadata": {},
   "source": [
    "*I will create a helper function that generates the password.*\n",
    "\n",
    "*It will shuffle the password generated to make it more random and fool-proof.*"
   ]
  },
  {
   "cell_type": "code",
   "execution_count": 9,
   "metadata": {},
   "outputs": [],
   "source": [
    "def password_generator(numbers, letters):\n",
    "    password_num = \"\".join(random.choice(num_seq) for number in range(numbers)) \n",
    "    password_let = \"\".join(random.choice(letter_seq) for letter in range(letters))\n",
    "    #concatenate the numbers, symbols and letters\n",
    "    password_total = password_let + password_num\n",
    "    #shuffle the combination to make it more random\n",
    "    password = \"\".join(random.sample(password_total, len(password_total)))\n",
    "    return password"
   ]
  },
  {
   "cell_type": "code",
   "execution_count": 10,
   "metadata": {
    "scrolled": true
   },
   "outputs": [
    {
     "name": "stdout",
     "output_type": "stream",
     "text": [
      "How long do you want your password to be?:5\n",
      "Your password should be a minimum of 6 characters long.\n",
      "Please input password length again.:11\n",
      "How many letters should your password have?:6\n",
      "How many numbers and symbols should your password have?:7\n",
      "Your letters and numbers do not add up to the password length.\n",
      "Please input number of letters again.:6\n",
      "Please input number of numbers and symbols again.:5\n"
     ]
    }
   ],
   "source": [
    "#call the function\n",
    "length, numbers, letters = password_req()"
   ]
  },
  {
   "cell_type": "code",
   "execution_count": 11,
   "metadata": {},
   "outputs": [
    {
     "data": {
      "text/plain": [
       "(11, 5, 6)"
      ]
     },
     "execution_count": 11,
     "metadata": {},
     "output_type": "execute_result"
    }
   ],
   "source": [
    "# counter check that the variables hold what the user requested.\n",
    "length, numbers, letters"
   ]
  },
  {
   "cell_type": "code",
   "execution_count": 18,
   "metadata": {},
   "outputs": [
    {
     "data": {
      "text/plain": [
       "\"_']m:BCQ.Tf\""
      ]
     },
     "execution_count": 18,
     "metadata": {},
     "output_type": "execute_result"
    }
   ],
   "source": [
    "#generate the password and check.\n",
    "my_pass = password_generator(numbers, letters)\n",
    "my_pass"
   ]
  },
  {
   "cell_type": "code",
   "execution_count": 15,
   "metadata": {},
   "outputs": [
    {
     "data": {
      "text/plain": [
       "11"
      ]
     },
     "execution_count": 15,
     "metadata": {},
     "output_type": "execute_result"
    }
   ],
   "source": [
    "len(my_pass)"
   ]
  },
  {
   "cell_type": "code",
   "execution_count": null,
   "metadata": {},
   "outputs": [],
   "source": []
  }
 ],
 "metadata": {
  "kernelspec": {
   "display_name": "Python 3",
   "language": "python",
   "name": "python3"
  },
  "language_info": {
   "codemirror_mode": {
    "name": "ipython",
    "version": 3
   },
   "file_extension": ".py",
   "mimetype": "text/x-python",
   "name": "python",
   "nbconvert_exporter": "python",
   "pygments_lexer": "ipython3",
   "version": "3.7.6"
  }
 },
 "nbformat": 4,
 "nbformat_minor": 4
}
