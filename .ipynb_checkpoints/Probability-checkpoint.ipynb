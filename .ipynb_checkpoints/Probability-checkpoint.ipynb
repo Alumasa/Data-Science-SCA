{
 "cells": [
  {
   "cell_type": "markdown",
   "metadata": {},
   "source": [
    "### Repeat an Experiment"
   ]
  },
  {
   "cell_type": "code",
   "execution_count": 2,
   "metadata": {},
   "outputs": [
    {
     "name": "stdout",
     "output_type": "stream",
     "text": [
      "[1.0, 1.0, 0.6666666666666666, 0.5, 0.6, 0.6666666666666666, 0.7142857142857143, 0.75, 0.7777777777777778, 0.7]\n",
      "[0.4993494144730257, 0.49939951961569257, 0.4993495446812769, 0.4993996397838703, 0.4993496748374187, 0.4992997198879552, 0.49934980494148246, 0.4993998799759952, 0.49934993499349933, 0.4994]\n"
     ]
    }
   ],
   "source": [
    "# INITIAL CODE\n",
    "from numpy.random import seed, randint\n",
    "\n",
    "seed(1)\n",
    "\n",
    "def coin_toss():\n",
    "    if randint(0,2) == 1:\n",
    "        return 'HEAD'\n",
    "    else:\n",
    "        return 'TAIL'\n",
    "    \n",
    "probabilities = []\n",
    "heads = 0\n",
    "\n",
    "for n in range(1, 10001):\n",
    "    outcome = coin_toss()\n",
    "    if outcome == 'HEAD':\n",
    "        heads += 1\n",
    "    current_probability = heads / n\n",
    "    probabilities.append(current_probability)\n",
    "    # Uncomment above and complete code from here\n",
    "print(probabilities[:10])\n",
    "print(probabilities[-10:])"
   ]
  },
  {
   "cell_type": "markdown",
   "metadata": {},
   "source": [
    "- Interestingly enough, P(H) stabilizes around the true value of P(H), which we assumed to be P(H) = 50% = 0.50 on the last screen. \n",
    "- This suggests that the greater the number of coin tosses, the closer P(H) gets to the true value."
   ]
  },
  {
   "cell_type": "code",
   "execution_count": 3,
   "metadata": {},
   "outputs": [
    {
     "name": "stdout",
     "output_type": "stream",
     "text": [
      "0.01818181818181818\n",
      "0.25\n"
     ]
    }
   ],
   "source": [
    "# INITIAL CODE\n",
    "def empirical_probability(n_occurences_event, n_experiments):\n",
    "    return n_occurences_event/n_experiments\n",
    "\n",
    "def theoretical_probability(n_successful_outcomes, n_outcomes):\n",
    "    return n_successful_outcomes/n_outcomes\n",
    "\n",
    "emp_probability = empirical_probability(10, 550)\n",
    "print(emp_probability)\n",
    "th_probability = theoretical_probability(4, 16)\n",
    "print(th_probability)"
   ]
  },
  {
   "cell_type": "code",
   "execution_count": null,
   "metadata": {},
   "outputs": [],
   "source": []
  }
 ],
 "metadata": {
  "kernelspec": {
   "display_name": "Python 3",
   "language": "python",
   "name": "python3"
  },
  "language_info": {
   "codemirror_mode": {
    "name": "ipython",
    "version": 3
   },
   "file_extension": ".py",
   "mimetype": "text/x-python",
   "name": "python",
   "nbconvert_exporter": "python",
   "pygments_lexer": "ipython3",
   "version": "3.7.6"
  }
 },
 "nbformat": 4,
 "nbformat_minor": 4
}
